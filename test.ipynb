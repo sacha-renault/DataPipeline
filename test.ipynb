{
 "cells": [
  {
   "cell_type": "code",
   "execution_count": 1,
   "metadata": {},
   "outputs": [
    {
     "ename": "ValueError",
     "evalue": "too many values to unpack (expected 2)",
     "output_type": "error",
     "traceback": [
      "\u001b[0;31m---------------------------------------------------------------------------\u001b[0m",
      "\u001b[0;31mValueError\u001b[0m                                Traceback (most recent call last)",
      "Cell \u001b[0;32mIn[1], line 14\u001b[0m\n\u001b[1;32m     11\u001b[0m     \u001b[38;5;28;01mreturn\u001b[39;00m x\n\u001b[1;32m     13\u001b[0m input1 \u001b[38;5;241m=\u001b[39m PipeNode(name \u001b[38;5;241m=\u001b[39m \u001b[38;5;124m\"\u001b[39m\u001b[38;5;124mInput1\u001b[39m\u001b[38;5;124m\"\u001b[39m)\n\u001b[0;32m---> 14\u001b[0m x, y \u001b[38;5;241m=\u001b[39m any_process\u001b[38;5;241m.\u001b[39mrescale(input1, \u001b[38;5;241m0\u001b[39m, \u001b[38;5;241m1\u001b[39m)\n\u001b[1;32m     15\u001b[0m x \u001b[38;5;241m=\u001b[39m process_2d\u001b[38;5;241m.\u001b[39mresize_with_max_distortion(x, (\u001b[38;5;241m256\u001b[39m, \u001b[38;5;241m256\u001b[39m), \u001b[38;5;241m0.5\u001b[39m)\n\u001b[1;32m     16\u001b[0m x \u001b[38;5;241m=\u001b[39m print_infos(x)\n",
      "\u001b[0;31mValueError\u001b[0m: too many values to unpack (expected 2)"
     ]
    }
   ],
   "source": [
    "from src.dl_data_pipeline.validator import TypeValidator, ShapeValidator, MinMaxValidator, MeanVarValidator\n",
    "from src.dl_data_pipeline.pipeline.pipe_node import PipelineNode\n",
    "from src.dl_data_pipeline.pipeline.data_pipeline import Pipeline\n",
    "from src.dl_data_pipeline import deferred_execution, InputNode\n",
    "from src.dl_data_pipeline.process_functions import (any_process, process_2d)\n",
    "import numpy as np\n",
    "\n",
    "@deferred_execution\n",
    "def print_infos(x):\n",
    "    print(x.shape)\n",
    "    return x\n",
    "\n",
    "input1 = PipelineNode(name = \"Input1\")\n",
    "x, y = any_process.rescale(input1, 0, 1)\n",
    "x = process_2d.resize_with_max_distortion(x, (256, 256), 0.5)\n",
    "x = print_infos(x)\n",
    "x = process_2d.padding_2d(x, (256, 256), 0)\n",
    "\n",
    "pipe = Pipeline([input1], x)\n",
    "pipe.add_validator(TypeValidator(np.ndarray), 0)\n",
    "pipe.add_validator(ShapeValidator((256, 256, 3)), 0)\n",
    "\n",
    "import matplotlib.pyplot as plt\n",
    "plt.imshow(pipe(np.random.rand(1920, 1080, 3)))"
   ]
  },
  {
   "cell_type": "code",
   "execution_count": 1,
   "metadata": {},
   "outputs": [],
   "source": [
    "from src.dl_data_pipeline.pipeline import PipelineNode, Pipeline\n",
    "a = PipelineNode()\n",
    "x = a[0]\n",
    "y = a[1]\n",
    "pipe = Pipeline(a, [x, y])"
   ]
  },
  {
   "cell_type": "code",
   "execution_count": 2,
   "metadata": {},
   "outputs": [
    {
     "data": {
      "text/plain": [
       "[0, 1]"
      ]
     },
     "execution_count": 2,
     "metadata": {},
     "output_type": "execute_result"
    }
   ],
   "source": [
    "pipe((0,1))"
   ]
  },
  {
   "cell_type": "code",
   "execution_count": 11,
   "metadata": {},
   "outputs": [
    {
     "name": "stdout",
     "output_type": "stream",
     "text": [
      "(slice(1, 2, 1), 2, 123)\n"
     ]
    }
   ],
   "source": [
    "class Test:\n",
    "    def __getitem__(self, key):\n",
    "        print(key)\n",
    "\n",
    "a = Test()\n"
   ]
  }
 ],
 "metadata": {
  "kernelspec": {
   "display_name": "Python 3",
   "language": "python",
   "name": "python3"
  },
  "language_info": {
   "codemirror_mode": {
    "name": "ipython",
    "version": 3
   },
   "file_extension": ".py",
   "mimetype": "text/x-python",
   "name": "python",
   "nbconvert_exporter": "python",
   "pygments_lexer": "ipython3",
   "version": "3.11.9"
  }
 },
 "nbformat": 4,
 "nbformat_minor": 2
}
