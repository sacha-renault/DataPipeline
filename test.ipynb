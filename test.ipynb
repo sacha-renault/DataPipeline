{
 "cells": [
  {
   "cell_type": "code",
   "execution_count": 8,
   "metadata": {},
   "outputs": [
    {
     "data": {
      "text/plain": [
       "array([[[ 5.        , -2.61292827, -4.42140078, ...,  4.48656157,\n",
       "          5.        ,  5.        ],\n",
       "        [ 5.        , -2.54745835,  4.10549163, ...,  2.77437772,\n",
       "          5.        ,  5.        ],\n",
       "        [ 5.        ,  2.15823947, -0.40813999, ...,  3.02380534,\n",
       "          5.        ,  5.        ],\n",
       "        ...,\n",
       "        [ 5.        ,  2.08573226,  2.25624513, ..., -0.2017486 ,\n",
       "          5.        ,  5.        ],\n",
       "        [ 5.        , -1.10069021,  2.18526702, ..., -1.12005752,\n",
       "          5.        ,  5.        ],\n",
       "        [ 5.        ,  5.        ,  5.        , ...,  5.        ,\n",
       "          5.        ,  5.        ]],\n",
       "\n",
       "       [[ 5.        , -0.06202532, -4.49431224, ...,  4.11166736,\n",
       "          5.        ,  5.        ],\n",
       "        [ 5.        , -3.02523814, -2.02113289, ...,  3.81246693,\n",
       "          5.        ,  5.        ],\n",
       "        [ 5.        ,  2.64062473,  0.63177532, ..., -4.09521589,\n",
       "          5.        ,  5.        ],\n",
       "        ...,\n",
       "        [ 5.        , -0.26310522, -4.60301597, ...,  0.46753433,\n",
       "          5.        ,  5.        ],\n",
       "        [ 5.        ,  1.79489677,  2.9903096 , ...,  2.95598566,\n",
       "          5.        ,  5.        ],\n",
       "        [ 5.        ,  5.        ,  5.        , ...,  5.        ,\n",
       "          5.        ,  5.        ]],\n",
       "\n",
       "       [[ 5.        , -3.86239552, -1.20842503, ..., -1.00393437,\n",
       "          5.        ,  5.        ],\n",
       "        [ 5.        , -4.01053846, -2.34460425, ...,  1.87652038,\n",
       "          5.        ,  5.        ],\n",
       "        [ 5.        , -1.78116185, -1.20161084, ..., -3.17173765,\n",
       "          5.        ,  5.        ],\n",
       "        ...,\n",
       "        [ 5.        , -2.16971538,  0.14666317, ...,  1.80967518,\n",
       "          5.        ,  5.        ],\n",
       "        [ 5.        , -1.98938072,  4.13259595, ..., -1.89722178,\n",
       "          5.        ,  5.        ],\n",
       "        [ 5.        ,  5.        ,  5.        , ...,  5.        ,\n",
       "          5.        ,  5.        ]]])"
      ]
     },
     "execution_count": 8,
     "metadata": {},
     "output_type": "execute_result"
    }
   ],
   "source": [
    "from src.dl_data_pipeline.validator import TypeValidator, ShapeValidator, MinMaxValidator, MeanVarValidator\n",
    "from src.dl_data_pipeline.pipeline.pipe_node import PipeNode\n",
    "from src.dl_data_pipeline.pipeline.data_pipeline import Pipeline\n",
    "from src.dl_data_pipeline import deferred_execution\n",
    "from src.dl_data_pipeline.process_functions import (any_process, process_2d)\n",
    "import numpy as np\n",
    "\n",
    "@deferred_execution\n",
    "def mul(a, b):\n",
    "    return a*b\n",
    "\n",
    "input1 = PipeNode(name = \"Input1\")\n",
    "input2 = PipeNode(name = \"Input2\")\n",
    "x = any_process.rescale(input1, -1, 1)\n",
    "x = process_2d.resize_with_max_distortion(x, (256, 256), 0)\n",
    "x = process_2d.padding_2d(x, (256, 256), 1)\n",
    "x = process_2d.image_hwc_to_chw(x)\n",
    "out1 = mul(x, input2)\n",
    "\n",
    "pipe = Pipeline([input1, input2], out1)\n",
    "pipe.add_validator(TypeValidator(np.ndarray), 0)\n",
    "pipe.add_validator(ShapeValidator((3, 256, 256)), 0)\n",
    "\n",
    "pipe(np.random.rand(255, 253,3), 5)\n",
    "\n"
   ]
  },
  {
   "cell_type": "code",
   "execution_count": 22,
   "metadata": {},
   "outputs": [
    {
     "name": "stdout",
     "output_type": "stream",
     "text": [
      "Test fails. Exit code 1\n",
      "Check log file : test/test.log for more info\n"
     ]
    }
   ],
   "source": [
    "import subprocess\n",
    "import os\n",
    "\n",
    "MIN_COVER = 75\n",
    "log_path = os.path.normpath(\"test/test.log\")\n",
    "if os.path.exists(log_path):\n",
    "    os.remove(log_path)\n",
    "result = subprocess.run(\n",
    "    [\"python3\", \"-m\", \"pytest\", \"--cov=src\", \"--cov-report=html:test/htmlcov\", f\"--cov-fail-under={MIN_COVER}\", \"test/\"],\n",
    "    stdout=open(log_path, \"w\"),stderr=subprocess.STDOUT)\n",
    "exc = result.returncode\n",
    "if exc != 0:\n",
    "    print(f\"Test fails. Exit code {exc}\")\n",
    "    print(f\"Check log file : {log_path} for more info\")\n",
    "else:\n",
    "    if os.name == 'nt':\n",
    "        os.startfile(os.path.normpath(\"test/htmlcov/index.html\"))\n",
    "    elif os.name == 'posix':\n",
    "        subprocess.run([\"open\", \"test/htmlcov/index.html\"])"
   ]
  },
  {
   "cell_type": "code",
   "execution_count": 19,
   "metadata": {},
   "outputs": [
    {
     "data": {
      "text/plain": [
       "array([0.9695446 , 0.03420365, 1.        , 0.90440622, 0.00927965,\n",
       "       0.78291949, 0.23193117, 0.89277142, 0.        , 0.58972763])"
      ]
     },
     "execution_count": 19,
     "metadata": {},
     "output_type": "execute_result"
    }
   ],
   "source": [
    "from src.dl_data_pipeline import deferred\n",
    "from src.dl_data_pipeline import Pipeline, DATA_PLACEHOLDER as DP\n",
    "from src.dl_data_pipeline import process_functions\n",
    "import numpy as np\n",
    "\n",
    "\n",
    "# deferred.use_deferred_execution()\n",
    "\n",
    "pipe = Pipeline()\n",
    "pipe.add_forward_process(process_functions.any_process.rescale, 0, 1)\n",
    "\n",
    "pipe.forward(np.random.rand(10)*50)"
   ]
  }
 ],
 "metadata": {
  "kernelspec": {
   "display_name": "Python 3",
   "language": "python",
   "name": "python3"
  },
  "language_info": {
   "codemirror_mode": {
    "name": "ipython",
    "version": 3
   },
   "file_extension": ".py",
   "mimetype": "text/x-python",
   "name": "python",
   "nbconvert_exporter": "python",
   "pygments_lexer": "ipython3",
   "version": "3.11.0"
  }
 },
 "nbformat": 4,
 "nbformat_minor": 2
}
