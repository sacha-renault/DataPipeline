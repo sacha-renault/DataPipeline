{
 "cells": [
  {
   "cell_type": "code",
   "execution_count": 5,
   "metadata": {},
   "outputs": [
    {
     "name": "stdout",
     "output_type": "stream",
     "text": [
      "Pipeline(forward_processes=5, forward_validators=3, backward_processes=0, backward_validators=0)\n"
     ]
    }
   ],
   "source": [
    "from src.dl_data_pipeline.validator import TypeValidator, ShapeValidator, MinMaxValidator, MeanVarValidator\n",
    "from src.dl_data_pipeline.pipeline.data_pipeline import Pipeline\n",
    "from tqdm import tqdm\n",
    "import os\n",
    "from src.dl_data_pipeline.process_functions import any_process\n",
    "from src.dl_data_pipeline.process_functions import process_2d\n",
    "import numpy as np\n",
    "\n",
    "pipe = Pipeline()\n",
    "pipe.add_forward_process(process_2d.open_rgb_image)\n",
    "pipe.add_forward_process(any_process.rescale, min_value=0.0, max_value=1.0)\n",
    "pipe.add_forward_process(process_2d.resize_with_max_distortion, (64, 64), 0.25, 0.0)\n",
    "pipe.add_forward_process(process_2d.image_to_channel_num, 3, 0)\n",
    "pipe.add_forward_process(lambda x : np.moveaxis(x, -1, 0))\n",
    "pipe.add_forward_validator(TypeValidator(np.ndarray))\n",
    "pipe.add_forward_validator(ShapeValidator((3, 64, 64)))\n",
    "pipe.add_forward_validator(MinMaxValidator(0, 1))\n",
    "# pipe.add_forward_validator(MeanVarValidator(0.5, 0.25, 0.1, 0.1))\n",
    "\n",
    "pictures = []\n",
    "for root, dirs, files in os.walk(\"../\"):\n",
    "    for file in files:\n",
    "        if file.endswith(\".png\"):\n",
    "            pictures.append(os.path.join(root, file))\n",
    "    \n",
    "\n",
    "Xdata = np.zeros((len(pictures), 3, 64, 64))\n",
    "# for i, path in enumerate(tqdm(pictures)):\n",
    "#     Xdata [i] = pipe.forward(path)\n",
    "    # pipe.forward(np.random.rand(1080, 1920, 3))\n",
    "print(pipe)"
   ]
  },
  {
   "cell_type": "code",
   "execution_count": 22,
   "metadata": {},
   "outputs": [
    {
     "name": "stdout",
     "output_type": "stream",
     "text": [
      "Test fails. Exit code 1\n",
      "Check log file : test/test.log for more info\n"
     ]
    }
   ],
   "source": [
    "import subprocess\n",
    "import os\n",
    "\n",
    "MIN_COVER = 75\n",
    "log_path = os.path.normpath(\"test/test.log\")\n",
    "if os.path.exists(log_path):\n",
    "    os.remove(log_path)\n",
    "result = subprocess.run(\n",
    "    [\"python3\", \"-m\", \"pytest\", \"--cov=src\", \"--cov-report=html:test/htmlcov\", f\"--cov-fail-under={MIN_COVER}\", \"test/\"],\n",
    "    stdout=open(log_path, \"w\"),stderr=subprocess.STDOUT)\n",
    "exc = result.returncode\n",
    "if exc != 0:\n",
    "    print(f\"Test fails. Exit code {exc}\")\n",
    "    print(f\"Check log file : {log_path} for more info\")\n",
    "else:\n",
    "    if os.name == 'nt':\n",
    "        os.startfile(os.path.normpath(\"test/htmlcov/index.html\"))\n",
    "    elif os.name == 'posix': \n",
    "        subprocess.run([\"open\", \"test/htmlcov/index.html\"])"
   ]
  },
  {
   "cell_type": "code",
   "execution_count": 19,
   "metadata": {},
   "outputs": [
    {
     "data": {
      "text/plain": [
       "array([0.9695446 , 0.03420365, 1.        , 0.90440622, 0.00927965,\n",
       "       0.78291949, 0.23193117, 0.89277142, 0.        , 0.58972763])"
      ]
     },
     "execution_count": 19,
     "metadata": {},
     "output_type": "execute_result"
    }
   ],
   "source": [
    "from src.dl_data_pipeline import deferred\n",
    "from src.dl_data_pipeline import Pipeline, DATA_PLACEHOLDER as DP\n",
    "from src.dl_data_pipeline import process_functions\n",
    "import numpy as np\n",
    "\n",
    "\n",
    "# deferred.use_deferred_execution()\n",
    "\n",
    "pipe = Pipeline()\n",
    "pipe.add_forward_process(process_functions.any_process.rescale, 0, 1)\n",
    "\n",
    "pipe.forward(np.random.rand(10)*50)"
   ]
  }
 ],
 "metadata": {
  "kernelspec": {
   "display_name": "Python 3",
   "language": "python",
   "name": "python3"
  },
  "language_info": {
   "codemirror_mode": {
    "name": "ipython",
    "version": 3
   },
   "file_extension": ".py",
   "mimetype": "text/x-python",
   "name": "python",
   "nbconvert_exporter": "python",
   "pygments_lexer": "ipython3",
   "version": "3.11.9"
  }
 },
 "nbformat": 4,
 "nbformat_minor": 2
}
