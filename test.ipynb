{
 "cells": [
  {
   "cell_type": "code",
   "execution_count": 1,
   "metadata": {},
   "outputs": [
    {
     "ename": "ValueError",
     "evalue": "too many values to unpack (expected 2)",
     "output_type": "error",
     "traceback": [
      "\u001b[0;31m---------------------------------------------------------------------------\u001b[0m",
      "\u001b[0;31mValueError\u001b[0m                                Traceback (most recent call last)",
      "Cell \u001b[0;32mIn[1], line 14\u001b[0m\n\u001b[1;32m     11\u001b[0m     \u001b[38;5;28;01mreturn\u001b[39;00m x\n\u001b[1;32m     13\u001b[0m input1 \u001b[38;5;241m=\u001b[39m PipeNode(name \u001b[38;5;241m=\u001b[39m \u001b[38;5;124m\"\u001b[39m\u001b[38;5;124mInput1\u001b[39m\u001b[38;5;124m\"\u001b[39m)\n\u001b[0;32m---> 14\u001b[0m x, y \u001b[38;5;241m=\u001b[39m any_process\u001b[38;5;241m.\u001b[39mrescale(input1, \u001b[38;5;241m0\u001b[39m, \u001b[38;5;241m1\u001b[39m)\n\u001b[1;32m     15\u001b[0m x \u001b[38;5;241m=\u001b[39m process_2d\u001b[38;5;241m.\u001b[39mresize_with_max_distortion(x, (\u001b[38;5;241m256\u001b[39m, \u001b[38;5;241m256\u001b[39m), \u001b[38;5;241m0.5\u001b[39m)\n\u001b[1;32m     16\u001b[0m x \u001b[38;5;241m=\u001b[39m print_infos(x)\n",
      "\u001b[0;31mValueError\u001b[0m: too many values to unpack (expected 2)"
     ]
    }
   ],
   "source": [
    "from src.dl_data_pipeline.validator import TypeValidator, ShapeValidator, MinMaxValidator, MeanVarValidator\n",
    "from src.dl_data_pipeline.pipeline.pipe_node import PipelineNode\n",
    "from src.dl_data_pipeline.pipeline.data_pipeline import Pipeline\n",
    "from src.dl_data_pipeline import deferred_execution, InputNode\n",
    "from src.dl_data_pipeline.process_functions import (any_process, process_2d)\n",
    "import numpy as np\n",
    "\n",
    "@deferred_execution\n",
    "def print_infos(x):\n",
    "    print(x.shape)\n",
    "    return x\n",
    "\n",
    "input1 = PipelineNode(name = \"Input1\")\n",
    "x, y = any_process.rescale(input1, 0, 1)\n",
    "x = process_2d.resize_with_max_distortion(x, (256, 256), 0.5)\n",
    "x = print_infos(x)\n",
    "x = process_2d.padding_2d(x, (256, 256), 0)\n",
    "\n",
    "pipe = Pipeline([input1], x)\n",
    "pipe.add_validator(TypeValidator(np.ndarray), 0)\n",
    "pipe.add_validator(ShapeValidator((256, 256, 3)), 0)\n",
    "\n",
    "import matplotlib.pyplot as plt\n",
    "plt.imshow(pipe(np.random.rand(1920, 1080, 3)))"
   ]
  },
  {
   "cell_type": "code",
   "execution_count": 1,
   "metadata": {},
   "outputs": [],
   "source": [
    "from src.dl_data_pipeline.pipeline import PipelineNode, Pipeline\n",
    "a = PipelineNode()\n",
    "x = a[0]\n",
    "y = a[1]\n",
    "pipe = Pipeline(a, [x, y])"
   ]
  },
  {
   "cell_type": "code",
   "execution_count": 12,
   "metadata": {},
   "outputs": [
    {
     "data": {
      "text/plain": [
       "'<lambda>'"
      ]
     },
     "execution_count": 12,
     "metadata": {},
     "output_type": "execute_result"
    }
   ],
   "source": [
    "pipe((0,1))\n",
    "p = lambda x : x\n",
    "p.__name__"
   ]
  },
  {
   "cell_type": "code",
   "execution_count": 11,
   "metadata": {},
   "outputs": [
    {
     "name": "stdout",
     "output_type": "stream",
     "text": [
      "(slice(1, 2, 1), 2, 123)\n"
     ]
    }
   ],
   "source": [
    "class Test:\n",
    "    def __getitem__(self, key):\n",
    "        print(key)\n",
    "\n",
    "a = Test()\n"
   ]
  },
  {
   "cell_type": "code",
   "execution_count": 4,
   "metadata": {},
   "outputs": [
    {
     "data": {
      "text/plain": [
       "30"
      ]
     },
     "execution_count": 4,
     "metadata": {},
     "output_type": "execute_result"
    }
   ],
   "source": [
    "# Import lib\n",
    "from dl_data_pipeline import Pipeline, InputNode, deferred_execution\n",
    "# Create input nodes\n",
    "input_node1 = InputNode(name=\"1\")   # InputNode base name is input, it then concatenate\n",
    "input_node2 = InputNode(name=\"2\")   # Any subname passed by user\n",
    "# use any function, you can also create one\n",
    "@deferred_execution\n",
    "def sum(v1, v2):\n",
    "    return v1 + v2\n",
    "# create a functional PipelineNode with this function\n",
    "add_node = sum(input_node1, input_node2)\n",
    "# Create a pipeline\n",
    "pipeline = Pipeline(inputs=[input_node1, input_node2], outputs=add_node)\n",
    "# Compute pipe\n",
    "pipeline(20, 10) # will be 30"
   ]
  }
 ],
 "metadata": {
  "kernelspec": {
   "display_name": "Python 3",
   "language": "python",
   "name": "python3"
  },
  "language_info": {
   "codemirror_mode": {
    "name": "ipython",
    "version": 3
   },
   "file_extension": ".py",
   "mimetype": "text/x-python",
   "name": "python",
   "nbconvert_exporter": "python",
   "pygments_lexer": "ipython3",
   "version": "3.11.9"
  }
 },
 "nbformat": 4,
 "nbformat_minor": 2
}
