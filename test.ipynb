{
 "cells": [
  {
   "cell_type": "code",
   "execution_count": 14,
   "metadata": {},
   "outputs": [
    {
     "data": {
      "text/plain": [
       "array([[[0., 0., 0., ..., 0., 0., 0.],\n",
       "        [0., 0., 0., ..., 0., 0., 0.],\n",
       "        [0., 0., 0., ..., 0., 0., 0.],\n",
       "        ...,\n",
       "        [0., 0., 0., ..., 0., 0., 0.],\n",
       "        [0., 0., 0., ..., 0., 0., 0.],\n",
       "        [0., 0., 0., ..., 0., 0., 0.]],\n",
       "\n",
       "       [[0., 0., 0., ..., 0., 0., 0.],\n",
       "        [0., 0., 0., ..., 0., 0., 0.],\n",
       "        [0., 0., 0., ..., 0., 0., 0.],\n",
       "        ...,\n",
       "        [0., 0., 0., ..., 0., 0., 0.],\n",
       "        [0., 0., 0., ..., 0., 0., 0.],\n",
       "        [0., 0., 0., ..., 0., 0., 0.]],\n",
       "\n",
       "       [[0., 0., 0., ..., 0., 0., 0.],\n",
       "        [0., 0., 0., ..., 0., 0., 0.],\n",
       "        [0., 0., 0., ..., 0., 0., 0.],\n",
       "        ...,\n",
       "        [0., 0., 0., ..., 0., 0., 0.],\n",
       "        [0., 0., 0., ..., 0., 0., 0.],\n",
       "        [0., 0., 0., ..., 0., 0., 0.]]])"
      ]
     },
     "execution_count": 14,
     "metadata": {},
     "output_type": "execute_result"
    }
   ],
   "source": [
    "from src.dl_data_pipeline.validator import TypeValidator, ShapeValidator, MinMaxValidator, MeanVarValidator\n",
    "from src.dl_data_pipeline.pipeline.pipe_node import PipeNode\n",
    "from src.dl_data_pipeline.pipeline.data_pipeline import Pipeline\n",
    "from src.dl_data_pipeline import deferred_execution\n",
    "from src.dl_data_pipeline.process_functions import (any_process, process_2d)\n",
    "import numpy as np\n",
    "\n",
    "@deferred_execution\n",
    "def mul(a, b, c):\n",
    "    return a*b + c\n",
    "\n",
    "input1 = PipeNode(name = \"Input1\")\n",
    "input2 = PipeNode(name = \"Input2\")\n",
    "x = any_process.rescale(input1, -1, 1)\n",
    "x = process_2d.resize_with_max_distortion(x, (256, 256), 5)\n",
    "x = process_2d.padding_2d(x, (256, 256), 0)\n",
    "x = process_2d.image_hwc_to_chw(x)\n",
    "out1 = mul(x, input2, 0)\n",
    "\n",
    "pipe = Pipeline([input1, input2], out1)\n",
    "pipe.add_validator(TypeValidator(np.ndarray), 0)\n",
    "pipe.add_validator(ShapeValidator((3, 256, 256)), 0)\n",
    "\n",
    "pipe(np.random.rand(25,25,3), 5)"
   ]
  },
  {
   "cell_type": "code",
   "execution_count": 22,
   "metadata": {},
   "outputs": [
    {
     "name": "stdout",
     "output_type": "stream",
     "text": [
      "Test fails. Exit code 1\n",
      "Check log file : test/test.log for more info\n"
     ]
    }
   ],
   "source": [
    "import subprocess\n",
    "import os\n",
    "\n",
    "MIN_COVER = 75\n",
    "log_path = os.path.normpath(\"test/test.log\")\n",
    "if os.path.exists(log_path):\n",
    "    os.remove(log_path)\n",
    "result = subprocess.run(\n",
    "    [\"python3\", \"-m\", \"pytest\", \"--cov=src\", \"--cov-report=html:test/htmlcov\", f\"--cov-fail-under={MIN_COVER}\", \"test/\"],\n",
    "    stdout=open(log_path, \"w\"),stderr=subprocess.STDOUT)\n",
    "exc = result.returncode\n",
    "if exc != 0:\n",
    "    print(f\"Test fails. Exit code {exc}\")\n",
    "    print(f\"Check log file : {log_path} for more info\")\n",
    "else:\n",
    "    if os.name == 'nt':\n",
    "        os.startfile(os.path.normpath(\"test/htmlcov/index.html\"))\n",
    "    elif os.name == 'posix':\n",
    "        subprocess.run([\"open\", \"test/htmlcov/index.html\"])"
   ]
  },
  {
   "cell_type": "code",
   "execution_count": 19,
   "metadata": {},
   "outputs": [
    {
     "data": {
      "text/plain": [
       "array([0.9695446 , 0.03420365, 1.        , 0.90440622, 0.00927965,\n",
       "       0.78291949, 0.23193117, 0.89277142, 0.        , 0.58972763])"
      ]
     },
     "execution_count": 19,
     "metadata": {},
     "output_type": "execute_result"
    }
   ],
   "source": [
    "from src.dl_data_pipeline import deferred\n",
    "from src.dl_data_pipeline import Pipeline, DATA_PLACEHOLDER as DP\n",
    "from src.dl_data_pipeline import process_functions\n",
    "import numpy as np\n",
    "\n",
    "\n",
    "# deferred.use_deferred_execution()\n",
    "\n",
    "pipe = Pipeline()\n",
    "pipe.add_forward_process(process_functions.any_process.rescale, 0, 1)\n",
    "\n",
    "pipe.forward(np.random.rand(10)*50)"
   ]
  }
 ],
 "metadata": {
  "kernelspec": {
   "display_name": "Python 3",
   "language": "python",
   "name": "python3"
  },
  "language_info": {
   "codemirror_mode": {
    "name": "ipython",
    "version": 3
   },
   "file_extension": ".py",
   "mimetype": "text/x-python",
   "name": "python",
   "nbconvert_exporter": "python",
   "pygments_lexer": "ipython3",
   "version": "3.11.0"
  }
 },
 "nbformat": 4,
 "nbformat_minor": 2
}
